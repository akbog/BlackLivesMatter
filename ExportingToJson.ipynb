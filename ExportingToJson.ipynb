{
 "cells": [
  {
   "cell_type": "markdown",
   "metadata": {},
   "source": [
    "#### Exporting only columns that will be neccesary to json for use in geo_json"
   ]
  },
  {
   "cell_type": "code",
   "execution_count": null,
   "metadata": {},
   "outputs": [],
   "source": [
    "###This means pulling only tweets with geojson coordinates\n",
    "###I imagine there will be some kind of a bias towards geo-coordinates with these tweets (given protests etc.)\n",
    "#We want:\n",
    "#1. UserName (user.name/user.screen_name)\n",
    "#2. UserProfileLocation (user.location)\n",
    "#3. UserTweet (full_tweet_text)\n",
    "#4. Sentiment Score (sentiment)\n",
    "#5. GeoTaggedBox (coordinates)"
   ]
  },
  {
   "cell_type": "code",
   "execution_count": null,
   "metadata": {},
   "outputs": [],
   "source": [
    "filtered_export = tweets.select('full_tweet_text', 'user.name', 'user.screen_name', 'user.location', 'sentiment', 'place').where(~f.col('place').isNull())"
   ]
  },
  {
   "cell_type": "code",
   "execution_count": null,
   "metadata": {},
   "outputs": [],
   "source": [
    "print(\"Number of Tweets: \", filtered_export.count())"
   ]
  },
  {
   "cell_type": "code",
   "execution_count": null,
   "metadata": {},
   "outputs": [],
   "source": [
    "import json\n",
    "collected_df = filtered_export.coalesce(1).toJSON().collect()\n",
    "with open('blm_geo_tweets.json', 'w') as outfile:\n",
    "    json.dump(collected_df, outfile)"
   ]
  },
  {
   "cell_type": "code",
   "execution_count": null,
   "metadata": {},
   "outputs": [],
   "source": [
    "filtered_export.coalesce(1).show(10)"
   ]
  },
  {
   "cell_type": "code",
   "execution_count": null,
   "metadata": {},
   "outputs": [],
   "source": [
    "filtered_export.toPandas().to_json('blm_geo_tweets.json')"
   ]
  }
 ],
 "metadata": {
  "kernelspec": {
   "display_name": "venv-urban",
   "language": "python",
   "name": "venv-urban"
  },
  "language_info": {
   "codemirror_mode": {
    "name": "ipython",
    "version": 3
   },
   "file_extension": ".py",
   "mimetype": "text/x-python",
   "name": "python",
   "nbconvert_exporter": "python",
   "pygments_lexer": "ipython3",
   "version": "3.7.7"
  }
 },
 "nbformat": 4,
 "nbformat_minor": 4
}
